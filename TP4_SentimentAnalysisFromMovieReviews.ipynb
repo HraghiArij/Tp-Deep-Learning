{
 "cells": [
  {
   "cell_type": "markdown",
   "id": "c3625bad",
   "metadata": {},
   "source": [
    "Par Mohamed aziz cherif, hassen bouchhiwa, youssef jouili et Haroun Jaouadi"
   ]
  },
  {
   "cell_type": "markdown",
   "id": "62c41804",
   "metadata": {},
   "source": [
    "# TP 3 "
   ]
  },
  {
   "cell_type": "markdown",
   "id": "ddede2d2",
   "metadata": {},
   "source": [
    "## Importation des bibliothèques"
   ]
  },
  {
   "cell_type": "code",
   "execution_count": 16,
   "id": "2ea4795d",
   "metadata": {},
   "outputs": [],
   "source": [
    "import pandas as pd\n",
    "import numpy as np\n",
    "import re\n",
    "import nltk\n",
    "from nltk.corpus import stopwords\n",
    "from numpy import array\n",
    "from keras.preprocessing.text import one_hot\n",
    "from keras_preprocessing.sequence import pad_sequences\n",
    "from keras.models import Sequential\n",
    "from keras.layers.core import Activation, Dropout, Dense\n",
    "from keras.layers import Flatten\n",
    "from keras.layers import Conv1D\n",
    "from keras.layers import GlobalMaxPooling1D, MaxPooling1D\n",
    "from keras.layers import LSTM\n",
    "from keras.layers import Embedding , GRU\n",
    "from sklearn.model_selection import train_test_split\n",
    "from keras.preprocessing.text import Tokenizer\n",
    "import matplotlib.pyplot as plt \n",
    "import seaborn as sns"
   ]
  },
  {
   "cell_type": "markdown",
   "id": "768adfe7",
   "metadata": {},
   "source": [
    "## Importation du dataset"
   ]
  },
  {
   "cell_type": "code",
   "execution_count": 17,
   "id": "e7c64da7",
   "metadata": {},
   "outputs": [
    {
     "data": {
      "text/plain": [
       "(50000, 2)"
      ]
     },
     "execution_count": 17,
     "metadata": {},
     "output_type": "execute_result"
    }
   ],
   "source": [
    "movie_reviews = pd.read_csv('IMDB Dataset.csv')\n",
    "movie_reviews.shape"
   ]
  },
  {
   "cell_type": "code",
   "execution_count": 18,
   "id": "9e2715e8",
   "metadata": {},
   "outputs": [
    {
     "data": {
      "text/plain": [
       "review       0\n",
       "sentiment    0\n",
       "dtype: int64"
      ]
     },
     "execution_count": 18,
     "metadata": {},
     "output_type": "execute_result"
    }
   ],
   "source": [
    "movie_reviews.isna().sum()"
   ]
  },
  {
   "cell_type": "code",
   "execution_count": 19,
   "id": "d7dcb541",
   "metadata": {},
   "outputs": [
    {
     "data": {
      "text/html": [
       "<div>\n",
       "<style scoped>\n",
       "    .dataframe tbody tr th:only-of-type {\n",
       "        vertical-align: middle;\n",
       "    }\n",
       "\n",
       "    .dataframe tbody tr th {\n",
       "        vertical-align: top;\n",
       "    }\n",
       "\n",
       "    .dataframe thead th {\n",
       "        text-align: right;\n",
       "    }\n",
       "</style>\n",
       "<table border=\"1\" class=\"dataframe\">\n",
       "  <thead>\n",
       "    <tr style=\"text-align: right;\">\n",
       "      <th></th>\n",
       "      <th>review</th>\n",
       "      <th>sentiment</th>\n",
       "    </tr>\n",
       "  </thead>\n",
       "  <tbody>\n",
       "    <tr>\n",
       "      <th>0</th>\n",
       "      <td>One of the other reviewers has mentioned that ...</td>\n",
       "      <td>positive</td>\n",
       "    </tr>\n",
       "    <tr>\n",
       "      <th>1</th>\n",
       "      <td>A wonderful little production. &lt;br /&gt;&lt;br /&gt;The...</td>\n",
       "      <td>positive</td>\n",
       "    </tr>\n",
       "    <tr>\n",
       "      <th>2</th>\n",
       "      <td>I thought this was a wonderful way to spend ti...</td>\n",
       "      <td>positive</td>\n",
       "    </tr>\n",
       "    <tr>\n",
       "      <th>3</th>\n",
       "      <td>Basically there's a family where a little boy ...</td>\n",
       "      <td>negative</td>\n",
       "    </tr>\n",
       "    <tr>\n",
       "      <th>4</th>\n",
       "      <td>Petter Mattei's \"Love in the Time of Money\" is...</td>\n",
       "      <td>positive</td>\n",
       "    </tr>\n",
       "  </tbody>\n",
       "</table>\n",
       "</div>"
      ],
      "text/plain": [
       "                                              review sentiment\n",
       "0  One of the other reviewers has mentioned that ...  positive\n",
       "1  A wonderful little production. <br /><br />The...  positive\n",
       "2  I thought this was a wonderful way to spend ti...  positive\n",
       "3  Basically there's a family where a little boy ...  negative\n",
       "4  Petter Mattei's \"Love in the Time of Money\" is...  positive"
      ]
     },
     "execution_count": 19,
     "metadata": {},
     "output_type": "execute_result"
    }
   ],
   "source": [
    "movie_reviews.head()"
   ]
  },
  {
   "cell_type": "code",
   "execution_count": 20,
   "id": "beb1e2b2",
   "metadata": {},
   "outputs": [
    {
     "data": {
      "image/png": "[encoded data removed]",
      "text/plain": [
       "<Figure size 640x480 with 1 Axes>"
      ]
     },
     "metadata": {},
     "output_type": "display_data"
    }
   ],
   "source": [
    "sns.countplot(data = movie_reviews , x='sentiment')\n",
    "plt.show()"
   ]
  },
  {
   "cell_type": "code",
   "execution_count": 21,
   "id": "d1de352c",
   "metadata": {},
   "outputs": [
    {
     "data": {
      "text/plain": [
       "positive    25000\n",
       "negative    25000\n",
       "Name: sentiment, dtype: int64"
      ]
     },
     "execution_count": 21,
     "metadata": {},
     "output_type": "execute_result"
    }
   ],
   "source": [
    "movie_reviews['sentiment'].value_counts()"
   ]
  },
  {
   "cell_type": "markdown",
   "id": "3a44718b",
   "metadata": {},
   "source": [
    "Notre dataset est bien équilibré"
   ]
  },
  {
   "cell_type": "code",
   "execution_count": 22,
   "id": "19367bb7",
   "metadata": {},
   "outputs": [
    {
     "data": {
      "text/plain": [
       "\"Basically there's a family where a little boy (Jake) thinks there's a zombie in his closet & his parents are fighting all the time.<br /><br />This movie is slower than a soap opera... and suddenly, Jake decides to become Rambo and kill the zombie.<br /><br />OK, first of all when you're going to make a film you must Decide if its a thriller or a drama! As a drama the movie is watchable. Parents are divorcing & arguing like in real life. And then we have Jake with his closet which totally ruins all the film! I expected to see a BOOGEYMAN similar movie, and instead i watched a drama with some meaningless thriller spots.<br /><br />3 out of 10 just for the well playing parents & descent dialogs. As for the shots with Jake: just ignore them.\""
      ]
     },
     "metadata": {},
     "output_type": "display_data"
    },
    {
     "data": {
      "text/plain": [
       "'negative'"
      ]
     },
     "metadata": {},
     "output_type": "display_data"
    }
   ],
   "source": [
    "display(movie_reviews.iloc[3,:]['review'])\n",
    "display(movie_reviews.iloc[3,:]['sentiment'])"
   ]
  },
  {
   "cell_type": "markdown",
   "id": "fdf497f5",
   "metadata": {},
   "source": [
    "On remaque la présence des html tags qui sont inutiles pour nos données et doivent ètre supprimer"
   ]
  },
  {
   "cell_type": "markdown",
   "id": "004ab569",
   "metadata": {},
   "source": [
    "## Prétraitement de données"
   ]
  },
  {
   "cell_type": "code",
   "execution_count": 23,
   "id": "9f3f7248",
   "metadata": {},
   "outputs": [],
   "source": [
    "def preprocess_text(sen):\n",
    "    # Removing html tags\n",
    "    sentence = remove_tags(sen)\n",
    "    # Remove punctuations and numbers\n",
    "    sentence = re.sub('[^a-zA-Z]', ' ', sentence)\n",
    "    # Single character removal\n",
    "    sentence = re.sub(r\"\\s+[a-zA-Z]\\s+\", ' ', sentence)\n",
    "    # Removing multiple spaces\n",
    "    sentence = re.sub(r'\\s+', ' ', sentence)\n",
    "    return sentence\n",
    "#A regural expression that matches all html tags\n",
    "TAG_RE = re.compile(r'<[^>]+>')\n",
    "def remove_tags(text):\n",
    "    #remove html tags from the variable text\n",
    "    return TAG_RE.sub('', text)\n"
   ]
  },
  {
   "cell_type": "markdown",
   "id": "4eef0253",
   "metadata": {},
   "source": [
    "Pour le code précedent, on a utilisé les expressions reguliéres pour filtrer nos données et supprimer les expressions inutiles comme les html tags, les punctuations, les numéros et les espaces"
   ]
  },
  {
   "cell_type": "code",
   "execution_count": 24,
   "id": "431ebaa4",
   "metadata": {},
   "outputs": [
    {
     "data": {
      "text/plain": [
       "\"Basically there's a family where a little boy (Jake) thinks there's a zombie in his closet & his parents are fighting all the time.<br /><br />This movie is slower than a soap opera... and suddenly, Jake decides to become Rambo and kill the zombie.<br /><br />OK, first of all when you're going to make a film you must Decide if its a thriller or a drama! As a drama the movie is watchable. Parents are divorcing & arguing like in real life. And then we have Jake with his closet which totally ruins all the film! I expected to see a BOOGEYMAN similar movie, and instead i watched a drama with some meaningless thriller spots.<br /><br />3 out of 10 just for the well playing parents & descent dialogs. As for the shots with Jake: just ignore them.\""
      ]
     },
     "metadata": {},
     "output_type": "display_data"
    }
   ],
   "source": [
    "X = []\n",
    "sentences = list(movie_reviews['review'])\n",
    "for sen in sentences:\n",
    "    X.append(preprocess_text(sen))\n",
    "display(movie_reviews.iloc[3,:]['review'])"
   ]
  },
  {
   "cell_type": "markdown",
   "id": "4a23c18d",
   "metadata": {},
   "source": [
    "la fonction preprocess_text a bien nettoyé les reviews trouvé dans les données movie_reviews  "
   ]
  },
  {
   "cell_type": "code",
   "execution_count": 25,
   "id": "eec8af98",
   "metadata": {},
   "outputs": [],
   "source": [
    "y = movie_reviews['sentiment']\n",
    "y = np.array(list(map(lambda x: 1 if x==\"positive\" else 0, y)))"
   ]
  },
  {
   "cell_type": "code",
   "execution_count": 26,
   "id": "53087f59",
   "metadata": {},
   "outputs": [],
   "source": [
    "X_train, X_test, y_train, y_test = train_test_split(X, y,test_size=0.20, random_state=42)"
   ]
  },
  {
   "cell_type": "markdown",
   "id": "cff3ab63",
   "metadata": {},
   "source": [
    "## La couche de l'embedding"
   ]
  },
  {
   "cell_type": "code",
   "execution_count": 27,
   "id": "481507a1",
   "metadata": {},
   "outputs": [],
   "source": [
    "tokenizer = Tokenizer(num_words=5000)\n",
    "tokenizer.fit_on_texts(X_train)\n",
    "X_train = tokenizer.texts_to_sequences(X_train)\n",
    "X_test = tokenizer.texts_to_sequences(X_test)\n"
   ]
  },
  {
   "cell_type": "code",
   "execution_count": 28,
   "id": "ec7d040c",
   "metadata": {},
   "outputs": [],
   "source": [
    "# Adding 1 because of reserved 0 index\n",
    "vocab_size = len(tokenizer.word_index) + 1\n",
    "maxlen = 100\n",
    "X_train = pad_sequences(X_train, padding='post', maxlen=maxlen)\n",
    "X_test = pad_sequences(X_test, padding='post', maxlen=maxlen)"
   ]
  },
  {
   "cell_type": "code",
   "execution_count": 29,
   "id": "d4781858",
   "metadata": {},
   "outputs": [],
   "source": [
    "from numpy import array\n",
    "from numpy import asarray\n",
    "from numpy import zeros\n",
    "embeddings_dictionary = dict()\n",
    "glove_file = open(\"glove.6B.100d.txt\", encoding=\"utf8\")\n",
    "for line in glove_file:\n",
    "    records = line.split()\n",
    "    word = records[0]\n",
    "    vector_dimensions = asarray(records[1:],dtype='float32')\n",
    "    embeddings_dictionary [word] = vector_dimensions\n",
    "glove_file.close()\n"
   ]
  },
  {
   "cell_type": "code",
   "execution_count": 30,
   "id": "eaf07ada",
   "metadata": {},
   "outputs": [],
   "source": [
    "embedding_matrix = zeros((vocab_size, 100))\n",
    "for word, index in tokenizer.word_index.items():\n",
    "    embedding_vector = embeddings_dictionary.get(word)\n",
    "    if embedding_vector is not None:\n",
    "        embedding_matrix[index] = embedding_vector"
   ]
  },
  {
   "cell_type": "markdown",
   "id": "f79e4a53",
   "metadata": {},
   "source": [
    "## A. Classification avec un simple réseau de neurones"
   ]
  },
  {
   "cell_type": "code",
   "execution_count": 31,
   "id": "42fbd5ae",
   "metadata": {},
   "outputs": [
    {
     "name": "stdout",
     "output_type": "stream",
     "text": [
      "Epoch 1/6\n",
      "250/250 [==============================] - 3s 4ms/step - loss: 0.5971 - acc: 0.6769 - val_loss: 0.5370 - val_acc: 0.7365\n",
      "Epoch 2/6\n",
      "250/250 [==============================] - 1s 3ms/step - loss: 0.4931 - acc: 0.7640 - val_loss: 0.5371 - val_acc: 0.7297\n",
      "Epoch 3/6\n",
      "250/250 [==============================] - 1s 3ms/step - loss: 0.4634 - acc: 0.7808 - val_loss: 0.5530 - val_acc: 0.7265\n",
      "Epoch 4/6\n",
      "250/250 [==============================] - 1s 3ms/step - loss: 0.4346 - acc: 0.8018 - val_loss: 0.5252 - val_acc: 0.7499\n",
      "Epoch 5/6\n",
      "250/250 [==============================] - 1s 4ms/step - loss: 0.4207 - acc: 0.8093 - val_loss: 0.5257 - val_acc: 0.7467\n",
      "Epoch 6/6\n",
      "250/250 [==============================] - 1s 4ms/step - loss: 0.4075 - acc: 0.8166 - val_loss: 0.5357 - val_acc: 0.7466\n"
     ]
    }
   ],
   "source": [
    "model = Sequential()\n",
    "\n",
    "# Ajout de la couche Embedding\n",
    "model.add(Embedding(vocab_size, 100, weights=[embedding_matrix], input_length=maxlen, trainable=False))\n",
    "\n",
    "# Ajout de la couche Flatten\n",
    "model.add(Flatten())\n",
    "\n",
    "# Ajout de la couche Dense\n",
    "model.add(Dense(units=1, activation='sigmoid'))\n",
    "\n",
    "# Compilation du modèle\n",
    "model.compile(loss='binary_crossentropy', optimizer='adam', metrics=['acc'])\n",
    "\n",
    "# Entraînement du modèle\n",
    "history=model.fit(X_train, y_train, epochs=6, batch_size=128, verbose=1, validation_split=0.2)\n"
   ]
  },
  {
   "cell_type": "code",
   "execution_count": 32,
   "id": "21e86abc",
   "metadata": {},
   "outputs": [
    {
     "name": "stdout",
     "output_type": "stream",
     "text": [
      "313/313 [==============================] - 1s 2ms/step - loss: 0.5370 - acc: 0.7436\n",
      "Test Score: 0.5369867086410522\n",
      "Test Accuracy: 0.7436000108718872\n"
     ]
    }
   ],
   "source": [
    "score = model.evaluate(X_test, y_test, verbose=1)\n",
    "print(\"Test Score:\", score[0])\n",
    "print(\"Test Accuracy:\", score[1])"
   ]
  },
  {
   "cell_type": "code",
   "execution_count": 34,
   "id": "28000c18",
   "metadata": {},
   "outputs": [
    {
     "data": {
      "image/png": "[encoded data removed]",
      "text/plain": [
       "<Figure size 640x480 with 1 Axes>"
      ]
     },
     "metadata": {},
     "output_type": "display_data"
    },
    {
     "data": {
      "image/png": "[encoded data removed]",
      "text/plain": [
       "<Figure size 640x480 with 1 Axes>"
      ]
     },
     "metadata": {},
     "output_type": "display_data"
    }
   ],
   "source": [
    "plt.plot(history.history['acc'])\n",
    "plt.plot(history.history['val_acc'])\n",
    "plt.title('model accuracy')\n",
    "plt.ylabel('accuracy')\n",
    "plt.xlabel('epoch')\n",
    "plt.legend(['train','test'], loc='upper left')\n",
    "plt.show()\n",
    "plt.plot(history.history['loss'])\n",
    "plt.plot(history.history['val_loss'])\n",
    "plt.title('model loss')\n",
    "plt.ylabel('loss')\n",
    "plt.xlabel('epoch')\n",
    "plt.legend(['train','test'], loc='upper left')\n",
    "plt.show()"
   ]
  },
  {
   "cell_type": "markdown",
   "id": "b83263a9",
   "metadata": {},
   "source": [
    "On remarque que pour l'époque 2, le modéle atteint une \"accuarcy\" maximale et une perte minimale. "
   ]
  },
  {
   "cell_type": "markdown",
   "id": "7c072248",
   "metadata": {},
   "source": [
    "## B. Classification avec un réseau de neurones convolutionnel "
   ]
  },
  {
   "cell_type": "code",
   "execution_count": 35,
   "id": "365c3f83",
   "metadata": {},
   "outputs": [
    {
     "name": "stdout",
     "output_type": "stream",
     "text": [
      "Epoch 1/6\n",
      "250/250 [==============================] - 8s 9ms/step - loss: 0.6659 - acc: 0.5890 - val_loss: 0.6519 - val_acc: 0.6095\n",
      "Epoch 2/6\n",
      "250/250 [==============================] - 2s 7ms/step - loss: 0.6491 - acc: 0.6115 - val_loss: 0.6450 - val_acc: 0.6165\n",
      "Epoch 3/6\n",
      "250/250 [==============================] - 2s 7ms/step - loss: 0.6441 - acc: 0.6171 - val_loss: 0.6416 - val_acc: 0.6202\n",
      "Epoch 4/6\n",
      "250/250 [==============================] - 2s 7ms/step - loss: 0.6392 - acc: 0.6235 - val_loss: 0.6458 - val_acc: 0.6157\n",
      "Epoch 5/6\n",
      "250/250 [==============================] - 2s 7ms/step - loss: 0.6366 - acc: 0.6268 - val_loss: 0.6444 - val_acc: 0.6200\n",
      "Epoch 6/6\n",
      "250/250 [==============================] - 2s 7ms/step - loss: 0.6345 - acc: 0.6291 - val_loss: 0.6379 - val_acc: 0.6237\n"
     ]
    }
   ],
   "source": [
    "# Créer un modèle séquentiel\n",
    "model = Sequential()\n",
    "\n",
    "# Ajouter une couche Embedding\n",
    "model.add(Embedding(vocab_size, 100, weights=[embedding_matrix], input_length=maxlen, trainable=False))\n",
    "\n",
    "# Ajouter une couche Conv1D\n",
    "model.add(Conv1D(filters=128, kernel_size=5, activation='relu'))\n",
    "\n",
    "# Ajouter une couche MaxPooling1D\n",
    "model.add(MaxPooling1D())\n",
    "\n",
    "# Ajouter une couche Dense\n",
    "model.add(Dense(units=1, activation='sigmoid'))\n",
    "\n",
    "# Compiler le modèle avec les paramètres donnés\n",
    "model.compile(loss='binary_crossentropy', optimizer='adam', metrics='acc')\n",
    "\n",
    "# Entraîner le modèle avec les paramètres donnés\n",
    "history = model.fit(X_train, np.reshape(y_train, (-1,1)), epochs=6, batch_size=128, validation_split=0.2, verbose=1)\n"
   ]
  },
  {
   "cell_type": "code",
   "execution_count": 36,
   "id": "e9346df3",
   "metadata": {},
   "outputs": [
    {
     "name": "stdout",
     "output_type": "stream",
     "text": [
      "313/313 [==============================] - 2s 4ms/step - loss: 0.7589 - acc: 0.5038\n",
      "Test Score: 0.7588545680046082\n",
      "Test Accuracy: 0.5038445591926575\n"
     ]
    }
   ],
   "source": [
    "score = model.evaluate(X_test, y_test, verbose=1)\n",
    "print(\"Test Score:\", score[0])\n",
    "print(\"Test Accuracy:\", score[1])"
   ]
  },
  {
   "cell_type": "code",
   "execution_count": 37,
   "id": "c71bd2be",
   "metadata": {},
   "outputs": [
    {
     "data": {
      "image/png": "[encoded data removed]",
      "text/plain": [
       "<Figure size 640x480 with 1 Axes>"
      ]
     },
     "metadata": {},
     "output_type": "display_data"
    },
    {
     "data": {
      "image/png": "[encoded data removed]",
      "text/plain": [
       "<Figure size 640x480 with 1 Axes>"
      ]
     },
     "metadata": {},
     "output_type": "display_data"
    }
   ],
   "source": [
    "plt.plot(history.history['acc'])\n",
    "plt.plot(history.history['val_acc'])\n",
    "plt.title('model accuracy')\n",
    "plt.ylabel('accuracy')\n",
    "plt.xlabel('epoch')\n",
    "plt.legend(['train','test'], loc='upper left')\n",
    "plt.show()\n",
    "plt.plot(history.history['loss'])\n",
    "plt.plot(history.history['val_loss'])\n",
    "plt.title('model loss')\n",
    "plt.ylabel('loss')\n",
    "plt.xlabel('epoch')\n",
    "plt.legend(['train','test'], loc='upper left')\n",
    "plt.show()"
   ]
  },
  {
   "cell_type": "markdown",
   "id": "c4145313",
   "metadata": {},
   "source": [
    "## C. Classification avec un réseau de neurones récurrent (LSTM)"
   ]
  },
  {
   "cell_type": "code",
   "execution_count": 38,
   "id": "fcfe79a8",
   "metadata": {},
   "outputs": [
    {
     "name": "stdout",
     "output_type": "stream",
     "text": [
      "Epoch 1/6\n",
      "250/250 [==============================] - 12s 39ms/step - loss: 0.4969 - acc: 0.7529 - val_loss: 0.3579 - val_acc: 0.8435\n",
      "Epoch 2/6\n",
      "250/250 [==============================] - 9s 36ms/step - loss: 0.3351 - acc: 0.8574 - val_loss: 0.3328 - val_acc: 0.8609\n",
      "Epoch 3/6\n",
      "250/250 [==============================] - 9s 36ms/step - loss: 0.2956 - acc: 0.8772 - val_loss: 0.3219 - val_acc: 0.8643\n",
      "Epoch 4/6\n",
      "250/250 [==============================] - 9s 37ms/step - loss: 0.2593 - acc: 0.8938 - val_loss: 0.3254 - val_acc: 0.8643\n",
      "Epoch 5/6\n",
      "250/250 [==============================] - 9s 37ms/step - loss: 0.2378 - acc: 0.9049 - val_loss: 0.3350 - val_acc: 0.8618\n",
      "Epoch 6/6\n",
      "250/250 [==============================] - 9s 37ms/step - loss: 0.2143 - acc: 0.9165 - val_loss: 0.3259 - val_acc: 0.8633\n"
     ]
    }
   ],
   "source": [
    "# Créer le modèle\n",
    "model = Sequential()\n",
    "\n",
    "# Ajouter la couche Embedding\n",
    "model.add(Embedding(vocab_size, 100, weights=[embedding_matrix], input_length=maxlen))\n",
    "\n",
    "# Ajouter la couche LSTM\n",
    "model.add(LSTM(units=128))\n",
    "\n",
    "# Ajouter la couche Dense\n",
    "model.add(Dense(units=1, activation='sigmoid'))\n",
    "\n",
    "# Compiler le modèle\n",
    "model.compile(loss='binary_crossentropy', optimizer='adam', metrics=['acc'])\n",
    "\n",
    "# Entraîner le modèle\n",
    "history = model.fit(X_train, y_train, epochs=6, batch_size=128, verbose=1, validation_split=0.2)"
   ]
  },
  {
   "cell_type": "code",
   "execution_count": 39,
   "id": "f269d2db",
   "metadata": {},
   "outputs": [
    {
     "name": "stdout",
     "output_type": "stream",
     "text": [
      "313/313 [==============================] - 2s 5ms/step - loss: 0.3081 - acc: 0.8676\n",
      "Test Score: 0.30808618664741516\n",
      "Test Accuracy: 0.8676000237464905\n"
     ]
    }
   ],
   "source": [
    "score = model.evaluate(X_test, y_test, verbose=1)\n",
    "print(\"Test Score:\", score[0])\n",
    "print(\"Test Accuracy:\", score[1])"
   ]
  },
  {
   "cell_type": "code",
   "execution_count": 40,
   "id": "f306e92d",
   "metadata": {},
   "outputs": [
    {
     "data": {
      "image/png": "[encoded data removed]",
      "text/plain": [
       "<Figure size 640x480 with 1 Axes>"
      ]
     },
     "metadata": {},
     "output_type": "display_data"
    },
    {
     "data": {
      "image/png": "[encoded data removed]",
      "text/plain": [
       "<Figure size 640x480 with 1 Axes>"
      ]
     },
     "metadata": {},
     "output_type": "display_data"
    }
   ],
   "source": [
    "plt.plot(history.history['acc'])\n",
    "plt.plot(history.history['val_acc'])\n",
    "plt.title('model accuracy')\n",
    "plt.ylabel('accuracy')\n",
    "plt.xlabel('epoch')\n",
    "plt.legend(['train','test'], loc='upper left')\n",
    "plt.show()\n",
    "plt.plot(history.history['loss'])\n",
    "plt.plot(history.history['val_loss'])\n",
    "plt.title('model loss')\n",
    "plt.ylabel('loss')\n",
    "plt.xlabel('epoch')\n",
    "plt.legend(['train','test'], loc='upper left')\n",
    "plt.show()"
   ]
  },
  {
   "cell_type": "code",
   "execution_count": 41,
   "id": "9733c39a",
   "metadata": {},
   "outputs": [
    {
     "name": "stdout",
     "output_type": "stream",
     "text": [
      "Stephen Hawkings is genius He is the king of geniuses Watching this movie makes me feel dumb But it a great movie Not highly entertaining but very very intriguing The movie centers around wheelchair bound Stephen Hawkings man who makes Einstein look average and his theories and scientific discoveries about the universe time the galaxy and black holes Everyone at sometime or another during really intense high comes to moment when they think they got the universe and the cosmos figured out and they swear as soon as they sober up they ll write it all down Well here is man who actually held that feeling for more then six hours Here is man who despite suffering from Lou Gehrig disease has become the greatest mind the world has yet seen Watch this and listen in on how he has formulated theories on black holes Awesome You won be the same after you see it \n"
     ]
    }
   ],
   "source": [
    "instance =X[80]\n",
    "print(instance)"
   ]
  },
  {
   "cell_type": "code",
   "execution_count": 42,
   "id": "3b4b9c34",
   "metadata": {},
   "outputs": [
    {
     "name": "stdout",
     "output_type": "stream",
     "text": [
      "1/1 [==============================] - 0s 402ms/step\n",
      "The instance is positive\n"
     ]
    }
   ],
   "source": [
    "instance = tokenizer.texts_to_sequences(instance)\n",
    "\n",
    "flat_list = []\n",
    "for sublist in instance:\n",
    "    for item in sublist:\n",
    "        flat_list.append(item)\n",
    "\n",
    "flat_list = [flat_list]\n",
    "\n",
    "instance = pad_sequences(flat_list, padding='post', maxlen=maxlen)\n",
    "\n",
    "prediction = model.predict(instance)\n",
    "\n",
    "if(prediction>0.5):\n",
    "    print('The instance is positive')\n",
    "else: print('the instance is negative')"
   ]
  },
  {
   "cell_type": "markdown",
   "id": "43aa8fed",
   "metadata": {},
   "source": [
    "La prédiction de ce modéle était correcte"
   ]
  },
  {
   "cell_type": "markdown",
   "id": "0dbf9acd",
   "metadata": {},
   "source": [
    "# Compte Rendue"
   ]
  },
  {
   "cell_type": "markdown",
   "id": "ec79d7ae",
   "metadata": {},
   "source": [
    "Au premier lieu, on va définir une fonction pour chaque modéle (LSTM, GRU et RNN+CNN) qui prend comme paramétres les données de test et de train (X_train, y_train, X_test, y_test) et retourne la précision (accuracy) correspondantesau test"
   ]
  },
  {
   "cell_type": "code",
   "execution_count": 43,
   "id": "5296b3b9",
   "metadata": {},
   "outputs": [],
   "source": [
    "#LSTM \n",
    "def train_and_evaluate_LTSM_model(embedding_matrix_method,embedding_dim=100):\n",
    "    model = Sequential()\n",
    "    model.add(Embedding(vocab_size, embedding_dim, weights=[embedding_matrix_method], input_length=maxlen))\n",
    "    model.add(LSTM(units=128))\n",
    "    model.add(Dense(units=1, activation='sigmoid'))\n",
    "    model.compile(loss='binary_crossentropy', optimizer='adam', metrics=['acc'])\n",
    "    history = model.fit(X_train, y_train, epochs=6, batch_size=128, verbose=1, validation_split=0.2)\n",
    "    score = model.evaluate(X_test, y_test, verbose=1)\n",
    "    return score[1]\n"
   ]
  },
  {
   "cell_type": "code",
   "execution_count": 44,
   "id": "d2a34d03",
   "metadata": {},
   "outputs": [],
   "source": [
    "#GRU \n",
    "def train_and_evaluate_GRU_model(embedding_matrix_method, embedding_dim=100):\n",
    "    model = Sequential()\n",
    "    model.add(Embedding(vocab_size, embedding_dim, weights=[embedding_matrix_method], input_length=maxlen))\n",
    "    model.add(GRU(32))\n",
    "    model.add(Dense(1, activation='sigmoid'))\n",
    "    model.compile(optimizer='adam', loss='binary_crossentropy', metrics=['acc'])\n",
    "    history = model.fit(X_train, y_train, epochs=10, batch_size=128, validation_split=0.2)\n",
    "    score= model.evaluate(X_test, y_test)\n",
    "    return score[1]"
   ]
  },
  {
   "cell_type": "code",
   "execution_count": 57,
   "id": "7bde23da",
   "metadata": {},
   "outputs": [],
   "source": [
    "#RNN + CNN\n",
    "def train_and_evaluate_RNN_CNN_model(embedding_matrix_method, embedding_dim=100):\n",
    "    # define the model\n",
    "    model = Sequential()\n",
    "    model.add(Embedding(vocab_size, embedding_dim, weights=[embedding_matrix_method], input_length=maxlen, trainable=False))\n",
    "    model.add(Conv1D(filters=128, kernel_size=5, activation='relu'))\n",
    "    model.add(MaxPooling1D(pool_size=2))\n",
    "    model.add(GRU(units=128))\n",
    "    model.add(Dense(units=1, activation='sigmoid'))\n",
    "\n",
    "    # compile the model\n",
    "    model.compile(loss='binary_crossentropy', optimizer='adam', metrics=['accuracy'])\n",
    "\n",
    "    # train the model\n",
    "    history = model.fit(X_train, y_train, epochs=10, batch_size=128, verbose=1, validation_split=0.2, )\n",
    "\n",
    "    # evaluate the model on the test set\n",
    "    score= model.evaluate(X_test, y_test)\n",
    "    return score[1]"
   ]
  },
  {
   "cell_type": "markdown",
   "id": "0281b756",
   "metadata": {},
   "source": [
    "Au deuxiéme lieu, on va définir l'embedding_matrix_method à utiliser pour chaque méthod d\"Embedding (Glove, Wor2vec, Fasttext et Tf-idf) "
   ]
  },
  {
   "cell_type": "code",
   "execution_count": 46,
   "id": "5dc1b2a3",
   "metadata": {},
   "outputs": [],
   "source": [
    "#l'embedding_matrix qu'on était en train d'utiliser jusqu'à cette cell est celle du glove embedding donc on just l'enregistre dans une autre variable\n",
    "embedding_matrix_glove= embedding_matrix\n",
    "embedding_dim_glove=100"
   ]
  },
  {
   "cell_type": "code",
   "execution_count": 47,
   "id": "00deb764",
   "metadata": {},
   "outputs": [],
   "source": [
    "#Word2vec\n",
    "from gensim.models import Word2Vec\n",
    "w2v_model = Word2Vec(sentences=X, window=5, min_count=1)"
   ]
  },
  {
   "cell_type": "code",
   "execution_count": 48,
   "id": "725518dc",
   "metadata": {},
   "outputs": [],
   "source": [
    "embedding_matrix_w2v = np.zeros((vocab_size, 100))\n",
    "for word, i in tokenizer.word_index.items():\n",
    "    if word in enumerate(w2v_model.wv.key_to_index):\n",
    "        embedding_matrix_w2v[i] = w2v_model[word]"
   ]
  },
  {
   "cell_type": "code",
   "execution_count": 49,
   "id": "ba3c934f",
   "metadata": {},
   "outputs": [],
   "source": [
    "from gensim.models import FastText\n",
    "fasttext_model= FastText(sentences=X, min_count=1 , window=5)"
   ]
  },
  {
   "cell_type": "code",
   "execution_count": 50,
   "id": "2dae32f1",
   "metadata": {},
   "outputs": [],
   "source": [
    "# get the embedding matrix\n",
    "embedding_matrix_fasttext = np.zeros((vocab_size, 100))\n",
    "for word, i in tokenizer.word_index.items():\n",
    "    embedding_vector = fasttext_model.wv[word]\n",
    "    if embedding_vector is not None:\n",
    "        embedding_matrix_fasttext[i] = embedding_vector\n"
   ]
  },
  {
   "cell_type": "code",
   "execution_count": 51,
   "id": "5ad941f6",
   "metadata": {},
   "outputs": [
    {
     "data": {
      "text/html": [
       "<style>#sk-container-id-1 {color: black;background-color: white;}#sk-container-id-1 pre{padding: 0;}#sk-container-id-1 div.sk-toggleable {background-color: white;}#sk-container-id-1 label.sk-toggleable__label {cursor: pointer;display: block;width: 100%;margin-bottom: 0;padding: 0.3em;box-sizing: border-box;text-align: center;}#sk-container-id-1 label.sk-toggleable__label-arrow:before {content: \"▸\";float: left;margin-right: 0.25em;color: #696969;}#sk-container-id-1 label.sk-toggleable__label-arrow:hover:before {color: black;}#sk-container-id-1 div.sk-estimator:hover label.sk-toggleable__label-arrow:before {color: black;}#sk-container-id-1 div.sk-toggleable__content {max-height: 0;max-width: 0;overflow: hidden;text-align: left;background-color: #f0f8ff;}#sk-container-id-1 div.sk-toggleable__content pre {margin: 0.2em;color: black;border-radius: 0.25em;background-color: #f0f8ff;}#sk-container-id-1 input.sk-toggleable__control:checked~div.sk-toggleable__content {max-height: 200px;max-width: 100%;overflow: auto;}#sk-container-id-1 input.sk-toggleable__control:checked~label.sk-toggleable__label-arrow:before {content: \"▾\";}#sk-container-id-1 div.sk-estimator input.sk-toggleable__control:checked~label.sk-toggleable__label {background-color: #d4ebff;}#sk-container-id-1 div.sk-label input.sk-toggleable__control:checked~label.sk-toggleable__label {background-color: #d4ebff;}#sk-container-id-1 input.sk-hidden--visually {border: 0;clip: rect(1px 1px 1px 1px);clip: rect(1px, 1px, 1px, 1px);height: 1px;margin: -1px;overflow: hidden;padding: 0;position: absolute;width: 1px;}#sk-container-id-1 div.sk-estimator {font-family: monospace;background-color: #f0f8ff;border: 1px dotted black;border-radius: 0.25em;box-sizing: border-box;margin-bottom: 0.5em;}#sk-container-id-1 div.sk-estimator:hover {background-color: #d4ebff;}#sk-container-id-1 div.sk-parallel-item::after {content: \"\";width: 100%;border-bottom: 1px solid gray;flex-grow: 1;}#sk-container-id-1 div.sk-label:hover label.sk-toggleable__label {background-color: #d4ebff;}#sk-container-id-1 div.sk-serial::before {content: \"\";position: absolute;border-left: 1px solid gray;box-sizing: border-box;top: 0;bottom: 0;left: 50%;z-index: 0;}#sk-container-id-1 div.sk-serial {display: flex;flex-direction: column;align-items: center;background-color: white;padding-right: 0.2em;padding-left: 0.2em;position: relative;}#sk-container-id-1 div.sk-item {position: relative;z-index: 1;}#sk-container-id-1 div.sk-parallel {display: flex;align-items: stretch;justify-content: center;background-color: white;position: relative;}#sk-container-id-1 div.sk-item::before, #sk-container-id-1 div.sk-parallel-item::before {content: \"\";position: absolute;border-left: 1px solid gray;box-sizing: border-box;top: 0;bottom: 0;left: 50%;z-index: -1;}#sk-container-id-1 div.sk-parallel-item {display: flex;flex-direction: column;z-index: 1;position: relative;background-color: white;}#sk-container-id-1 div.sk-parallel-item:first-child::after {align-self: flex-end;width: 50%;}#sk-container-id-1 div.sk-parallel-item:last-child::after {align-self: flex-start;width: 50%;}#sk-container-id-1 div.sk-parallel-item:only-child::after {width: 0;}#sk-container-id-1 div.sk-dashed-wrapped {border: 1px dashed gray;margin: 0 0.4em 0.5em 0.4em;box-sizing: border-box;padding-bottom: 0.4em;background-color: white;}#sk-container-id-1 div.sk-label label {font-family: monospace;font-weight: bold;display: inline-block;line-height: 1.2em;}#sk-container-id-1 div.sk-label-container {text-align: center;}#sk-container-id-1 div.sk-container {/* jupyter's `normalize.less` sets `[hidden] { display: none; }` but bootstrap.min.css set `[hidden] { display: none !important; }` so we also need the `!important` here to be able to override the default hidden behavior on the sphinx rendered scikit-learn.org. See: https://github.com/scikit-learn/scikit-learn/issues/21755 */display: inline-block !important;position: relative;}#sk-container-id-1 div.sk-text-repr-fallback {display: none;}</style><div id=\"sk-container-id-1\" class=\"sk-top-container\"><div class=\"sk-text-repr-fallback\"><pre>TfidfVectorizer()</pre><b>In a Jupyter environment, please rerun this cell to show the HTML representation or trust the notebook. <br />On GitHub, the HTML representation is unable to render, please try loading this page with nbviewer.org.</b></div><div class=\"sk-container\" hidden><div class=\"sk-item\"><div class=\"sk-estimator sk-toggleable\"><input class=\"sk-toggleable__control sk-hidden--visually\" id=\"sk-estimator-id-1\" type=\"checkbox\" checked><label for=\"sk-estimator-id-1\" class=\"sk-toggleable__label sk-toggleable__label-arrow\">TfidfVectorizer</label><div class=\"sk-toggleable__content\"><pre>TfidfVectorizer()</pre></div></div></div></div></div>"
      ],
      "text/plain": [
       "TfidfVectorizer()"
      ]
     },
     "execution_count": 51,
     "metadata": {},
     "output_type": "execute_result"
    }
   ],
   "source": [
    "from sklearn.feature_extraction.text import TfidfVectorizer\n",
    "tfidf = TfidfVectorizer()\n",
    "tfidf.fit(X)"
   ]
  },
  {
   "cell_type": "code",
   "execution_count": 52,
   "id": "fe950101",
   "metadata": {},
   "outputs": [
    {
     "name": "stderr",
     "output_type": "stream",
     "text": [
      "C:\\Users\\Admin\\anaconda3\\envs\\tensorflow\\lib\\site-packages\\sklearn\\utils\\deprecation.py:87: FutureWarning: Function get_feature_names is deprecated; get_feature_names is deprecated in 1.0 and will be removed in 1.2. Please use get_feature_names_out instead.\n",
      "  warnings.warn(msg, category=FutureWarning)\n"
     ]
    }
   ],
   "source": [
    "vocab = tfidf.get_feature_names()\n",
    "idf = tfidf.idf_\n",
    "embedding_matrix_tfidf = np.zeros((vocab_size, 100))\n",
    "for word, i in tokenizer.word_index.items():\n",
    "    if word in vocab:\n",
    "        tfidf_weight = idf[vocab.index(word)]\n",
    "        embedding_matrix_tfidf[i] = tfidf.transform([word]).toarray()[0][:100] * tfidf_weight\n"
   ]
  },
  {
   "cell_type": "code",
   "execution_count": 58,
   "id": "991c6408",
   "metadata": {},
   "outputs": [
    {
     "name": "stdout",
     "output_type": "stream",
     "text": [
      "Epoch 1/6\n",
      "250/250 [==============================] - 11s 40ms/step - loss: 0.4821 - acc: 0.7654 - val_loss: 0.3717 - val_acc: 0.8418\n",
      "Epoch 2/6\n",
      "250/250 [==============================] - 9s 36ms/step - loss: 0.3346 - acc: 0.8575 - val_loss: 0.3254 - val_acc: 0.8609\n",
      "Epoch 3/6\n",
      "250/250 [==============================] - 9s 37ms/step - loss: 0.2813 - acc: 0.8843 - val_loss: 0.3168 - val_acc: 0.8641\n",
      "Epoch 4/6\n",
      "250/250 [==============================] - 9s 36ms/step - loss: 0.2526 - acc: 0.8992 - val_loss: 0.3161 - val_acc: 0.8637\n",
      "Epoch 5/6\n",
      "250/250 [==============================] - 9s 36ms/step - loss: 0.2336 - acc: 0.9087 - val_loss: 0.3344 - val_acc: 0.8636\n",
      "Epoch 6/6\n",
      "250/250 [==============================] - 9s 36ms/step - loss: 0.2081 - acc: 0.9206 - val_loss: 0.3467 - val_acc: 0.8633\n",
      "313/313 [==============================] - 2s 5ms/step - loss: 0.3304 - acc: 0.8657\n",
      "Epoch 1/10\n",
      "250/250 [==============================] - 9s 30ms/step - loss: 0.5430 - acc: 0.7037 - val_loss: 0.3597 - val_acc: 0.8420\n",
      "Epoch 2/10\n",
      "250/250 [==============================] - 7s 28ms/step - loss: 0.3234 - acc: 0.8612 - val_loss: 0.3201 - val_acc: 0.8620\n",
      "Epoch 3/10\n",
      "250/250 [==============================] - 7s 28ms/step - loss: 0.2722 - acc: 0.8882 - val_loss: 0.3197 - val_acc: 0.8666\n",
      "Epoch 4/10\n",
      "250/250 [==============================] - 7s 28ms/step - loss: 0.2379 - acc: 0.9063 - val_loss: 0.3172 - val_acc: 0.8621\n",
      "Epoch 5/10\n",
      "250/250 [==============================] - 7s 28ms/step - loss: 0.2132 - acc: 0.9191 - val_loss: 0.3365 - val_acc: 0.8644\n",
      "Epoch 6/10\n",
      "250/250 [==============================] - 7s 28ms/step - loss: 0.1859 - acc: 0.9313 - val_loss: 0.3612 - val_acc: 0.8569\n",
      "Epoch 7/10\n",
      "250/250 [==============================] - 7s 28ms/step - loss: 0.1614 - acc: 0.9429 - val_loss: 0.3929 - val_acc: 0.8620\n",
      "Epoch 8/10\n",
      "250/250 [==============================] - 7s 28ms/step - loss: 0.1288 - acc: 0.9584 - val_loss: 0.4067 - val_acc: 0.8558\n",
      "Epoch 9/10\n",
      "250/250 [==============================] - 7s 28ms/step - loss: 0.1023 - acc: 0.9688 - val_loss: 0.4703 - val_acc: 0.8568\n",
      "Epoch 10/10\n",
      "250/250 [==============================] - 7s 28ms/step - loss: 0.0758 - acc: 0.9798 - val_loss: 0.4975 - val_acc: 0.8528\n",
      "313/313 [==============================] - 1s 4ms/step - loss: 0.4760 - acc: 0.8567\n",
      "Epoch 1/10\n",
      "250/250 [==============================] - 5s 15ms/step - loss: 0.5493 - accuracy: 0.7086 - val_loss: 0.4981 - val_accuracy: 0.7476\n",
      "Epoch 2/10\n",
      "250/250 [==============================] - 4s 15ms/step - loss: 0.3954 - accuracy: 0.8215 - val_loss: 0.3583 - val_accuracy: 0.8385\n",
      "Epoch 3/10\n",
      "250/250 [==============================] - 4s 15ms/step - loss: 0.3431 - accuracy: 0.8463 - val_loss: 0.3441 - val_accuracy: 0.8464\n",
      "Epoch 4/10\n",
      "250/250 [==============================] - 4s 15ms/step - loss: 0.3084 - accuracy: 0.8667 - val_loss: 0.3674 - val_accuracy: 0.8301\n",
      "Epoch 5/10\n",
      "250/250 [==============================] - 3s 14ms/step - loss: 0.2652 - accuracy: 0.8878 - val_loss: 0.3754 - val_accuracy: 0.8407\n",
      "Epoch 6/10\n",
      "250/250 [==============================] - 3s 14ms/step - loss: 0.2229 - accuracy: 0.9093 - val_loss: 0.4021 - val_accuracy: 0.8331\n",
      "Epoch 7/10\n",
      "250/250 [==============================] - 4s 14ms/step - loss: 0.1839 - accuracy: 0.9257 - val_loss: 0.4432 - val_accuracy: 0.8288\n",
      "Epoch 8/10\n",
      "250/250 [==============================] - 5s 18ms/step - loss: 0.1449 - accuracy: 0.9436 - val_loss: 0.4891 - val_accuracy: 0.8232\n",
      "Epoch 9/10\n",
      "250/250 [==============================] - 4s 18ms/step - loss: 0.1064 - accuracy: 0.9613 - val_loss: 0.5784 - val_accuracy: 0.8292\n",
      "Epoch 10/10\n",
      "250/250 [==============================] - 4s 16ms/step - loss: 0.0835 - accuracy: 0.9702 - val_loss: 0.6533 - val_accuracy: 0.8235\n",
      "313/313 [==============================] - 2s 5ms/step - loss: 0.6444 - accuracy: 0.8281\n"
     ]
    },
    {
     "data": {
      "text/html": [
       "<div>\n",
       "<style scoped>\n",
       "    .dataframe tbody tr th:only-of-type {\n",
       "        vertical-align: middle;\n",
       "    }\n",
       "\n",
       "    .dataframe tbody tr th {\n",
       "        vertical-align: top;\n",
       "    }\n",
       "\n",
       "    .dataframe thead th {\n",
       "        text-align: right;\n",
       "    }\n",
       "</style>\n",
       "<table border=\"1\" class=\"dataframe\">\n",
       "  <thead>\n",
       "    <tr style=\"text-align: right;\">\n",
       "      <th></th>\n",
       "      <th>Glove</th>\n",
       "    </tr>\n",
       "  </thead>\n",
       "  <tbody>\n",
       "    <tr>\n",
       "      <th>LTSM</th>\n",
       "      <td>0.8657</td>\n",
       "    </tr>\n",
       "    <tr>\n",
       "      <th>GRU</th>\n",
       "      <td>0.8567</td>\n",
       "    </tr>\n",
       "    <tr>\n",
       "      <th>RNN + CNN</th>\n",
       "      <td>0.8281</td>\n",
       "    </tr>\n",
       "  </tbody>\n",
       "</table>\n",
       "</div>"
      ],
      "text/plain": [
       "            Glove\n",
       "LTSM       0.8657\n",
       "GRU        0.8567\n",
       "RNN + CNN  0.8281"
      ]
     },
     "execution_count": 58,
     "metadata": {},
     "output_type": "execute_result"
    }
   ],
   "source": [
    "results=pd.DataFrame()\n",
    "results.index = ['LTSM', 'GRU', 'RNN + CNN']\n",
    "results['Glove']= [train_and_evaluate_LTSM_model(embedding_matrix_glove), train_and_evaluate_GRU_model(embedding_matrix_glove),  train_and_evaluate_RNN_CNN_model(embedding_matrix_glove)]\n",
    "results"
   ]
  },
  {
   "cell_type": "code",
   "execution_count": 59,
   "id": "83634f19",
   "metadata": {},
   "outputs": [
    {
     "name": "stdout",
     "output_type": "stream",
     "text": [
      "Epoch 1/6\n",
      "250/250 [==============================] - 11s 39ms/step - loss: 0.4228 - acc: 0.7974 - val_loss: 0.3450 - val_acc: 0.8522\n",
      "Epoch 2/6\n",
      "250/250 [==============================] - 9s 37ms/step - loss: 0.2977 - acc: 0.8787 - val_loss: 0.3459 - val_acc: 0.8546\n",
      "Epoch 3/6\n",
      "250/250 [==============================] - 9s 37ms/step - loss: 0.2601 - acc: 0.8939 - val_loss: 0.3932 - val_acc: 0.8443\n",
      "Epoch 4/6\n",
      "250/250 [==============================] - 9s 37ms/step - loss: 0.2262 - acc: 0.9084 - val_loss: 0.3949 - val_acc: 0.8445\n",
      "Epoch 5/6\n",
      "250/250 [==============================] - 9s 37ms/step - loss: 0.1972 - acc: 0.9225 - val_loss: 0.3865 - val_acc: 0.8439\n",
      "Epoch 6/6\n",
      "250/250 [==============================] - 9s 37ms/step - loss: 0.1728 - acc: 0.9339 - val_loss: 0.4677 - val_acc: 0.8425\n",
      "313/313 [==============================] - 2s 6ms/step - loss: 0.4489 - acc: 0.8453\n",
      "Epoch 1/10\n",
      "250/250 [==============================] - 9s 30ms/step - loss: 0.4568 - acc: 0.7728 - val_loss: 0.3528 - val_acc: 0.8514\n",
      "Epoch 2/10\n",
      "250/250 [==============================] - 7s 28ms/step - loss: 0.3012 - acc: 0.8762 - val_loss: 0.3388 - val_acc: 0.8570\n",
      "Epoch 3/10\n",
      "250/250 [==============================] - 7s 29ms/step - loss: 0.2659 - acc: 0.8946 - val_loss: 0.3421 - val_acc: 0.8589\n",
      "Epoch 4/10\n",
      "250/250 [==============================] - 7s 29ms/step - loss: 0.2372 - acc: 0.9064 - val_loss: 0.3525 - val_acc: 0.8553\n",
      "Epoch 5/10\n",
      "250/250 [==============================] - 7s 28ms/step - loss: 0.2082 - acc: 0.9209 - val_loss: 0.3856 - val_acc: 0.8465\n",
      "Epoch 6/10\n",
      "250/250 [==============================] - 7s 28ms/step - loss: 0.1828 - acc: 0.9311 - val_loss: 0.4072 - val_acc: 0.8394\n",
      "Epoch 7/10\n",
      "250/250 [==============================] - 7s 28ms/step - loss: 0.1624 - acc: 0.9406 - val_loss: 0.4443 - val_acc: 0.8372\n",
      "Epoch 8/10\n",
      "250/250 [==============================] - 7s 28ms/step - loss: 0.1427 - acc: 0.9492 - val_loss: 0.4999 - val_acc: 0.8391\n",
      "Epoch 9/10\n",
      "250/250 [==============================] - 7s 29ms/step - loss: 0.1250 - acc: 0.9575 - val_loss: 0.5773 - val_acc: 0.8357\n",
      "Epoch 10/10\n",
      "250/250 [==============================] - 7s 28ms/step - loss: 0.1118 - acc: 0.9618 - val_loss: 0.5672 - val_acc: 0.8345\n",
      "313/313 [==============================] - 1s 4ms/step - loss: 0.5479 - acc: 0.8400\n",
      "Epoch 1/10\n",
      "250/250 [==============================] - 5s 15ms/step - loss: 0.6933 - accuracy: 0.5005 - val_loss: 0.6932 - val_accuracy: 0.5000\n",
      "Epoch 2/10\n",
      "250/250 [==============================] - 3s 13ms/step - loss: 0.6932 - accuracy: 0.4973 - val_loss: 0.6932 - val_accuracy: 0.5000\n",
      "Epoch 3/10\n",
      "250/250 [==============================] - 3s 13ms/step - loss: 0.6932 - accuracy: 0.5010 - val_loss: 0.6932 - val_accuracy: 0.5000\n",
      "Epoch 4/10\n",
      "250/250 [==============================] - 3s 14ms/step - loss: 0.6932 - accuracy: 0.4977 - val_loss: 0.6932 - val_accuracy: 0.5000\n",
      "Epoch 5/10\n",
      "250/250 [==============================] - 4s 14ms/step - loss: 0.6932 - accuracy: 0.5011 - val_loss: 0.6932 - val_accuracy: 0.5000\n",
      "Epoch 6/10\n",
      "250/250 [==============================] - 3s 14ms/step - loss: 0.6932 - accuracy: 0.4973 - val_loss: 0.6931 - val_accuracy: 0.5000\n",
      "Epoch 7/10\n",
      "250/250 [==============================] - 4s 16ms/step - loss: 0.6932 - accuracy: 0.5000 - val_loss: 0.6932 - val_accuracy: 0.5000\n",
      "Epoch 8/10\n",
      "250/250 [==============================] - 4s 16ms/step - loss: 0.6932 - accuracy: 0.5003 - val_loss: 0.6932 - val_accuracy: 0.5000\n",
      "Epoch 9/10\n",
      "250/250 [==============================] - 3s 14ms/step - loss: 0.6932 - accuracy: 0.5012 - val_loss: 0.6931 - val_accuracy: 0.5000\n",
      "Epoch 10/10\n",
      "250/250 [==============================] - 3s 13ms/step - loss: 0.6932 - accuracy: 0.5012 - val_loss: 0.6931 - val_accuracy: 0.5000\n",
      "313/313 [==============================] - 1s 4ms/step - loss: 0.6932 - accuracy: 0.4961\n"
     ]
    }
   ],
   "source": [
    "results['Word2vec']=[train_and_evaluate_LTSM_model(embedding_matrix_w2v), train_and_evaluate_GRU_model(embedding_matrix_w2v),  train_and_evaluate_RNN_CNN_model(embedding_matrix_w2v)]\n"
   ]
  },
  {
   "cell_type": "code",
   "execution_count": 60,
   "id": "f78fe35f",
   "metadata": {},
   "outputs": [
    {
     "name": "stdout",
     "output_type": "stream",
     "text": [
      "Epoch 1/6\n",
      "250/250 [==============================] - 14s 52ms/step - loss: 0.4203 - acc: 0.8048 - val_loss: 0.3531 - val_acc: 0.8499\n",
      "Epoch 2/6\n",
      "250/250 [==============================] - 9s 37ms/step - loss: 0.3030 - acc: 0.8765 - val_loss: 0.3340 - val_acc: 0.8574\n",
      "Epoch 3/6\n",
      "250/250 [==============================] - 9s 36ms/step - loss: 0.2628 - acc: 0.8925 - val_loss: 0.3408 - val_acc: 0.8491\n",
      "Epoch 4/6\n",
      "250/250 [==============================] - 9s 38ms/step - loss: 0.2390 - acc: 0.9051 - val_loss: 0.3961 - val_acc: 0.8472\n",
      "Epoch 5/6\n",
      "250/250 [==============================] - 9s 38ms/step - loss: 0.2066 - acc: 0.9201 - val_loss: 0.4281 - val_acc: 0.8457\n",
      "Epoch 6/6\n",
      "250/250 [==============================] - 9s 37ms/step - loss: 0.1833 - acc: 0.9302 - val_loss: 0.4277 - val_acc: 0.8386\n",
      "313/313 [==============================] - 3s 8ms/step - loss: 0.4208 - acc: 0.8420\n",
      "Epoch 1/10\n",
      "250/250 [==============================] - 10s 31ms/step - loss: 0.4520 - acc: 0.7784 - val_loss: 0.3448 - val_acc: 0.8529\n",
      "Epoch 2/10\n",
      "250/250 [==============================] - 7s 29ms/step - loss: 0.2987 - acc: 0.8766 - val_loss: 0.3409 - val_acc: 0.8549\n",
      "Epoch 3/10\n",
      "250/250 [==============================] - 7s 29ms/step - loss: 0.2639 - acc: 0.8954 - val_loss: 0.3519 - val_acc: 0.8512\n",
      "Epoch 4/10\n",
      "250/250 [==============================] - 7s 29ms/step - loss: 0.2378 - acc: 0.9060 - val_loss: 0.3531 - val_acc: 0.8534\n",
      "Epoch 5/10\n",
      "250/250 [==============================] - 7s 28ms/step - loss: 0.2099 - acc: 0.9198 - val_loss: 0.3786 - val_acc: 0.8482\n",
      "Epoch 6/10\n",
      "250/250 [==============================] - 7s 30ms/step - loss: 0.1839 - acc: 0.9315 - val_loss: 0.3960 - val_acc: 0.8438\n",
      "Epoch 7/10\n",
      "250/250 [==============================] - 7s 30ms/step - loss: 0.1585 - acc: 0.9422 - val_loss: 0.4446 - val_acc: 0.8422\n",
      "Epoch 8/10\n",
      "250/250 [==============================] - 7s 30ms/step - loss: 0.1424 - acc: 0.9492 - val_loss: 0.4803 - val_acc: 0.8379\n",
      "Epoch 9/10\n",
      "250/250 [==============================] - 7s 29ms/step - loss: 0.1225 - acc: 0.9581 - val_loss: 0.5241 - val_acc: 0.8342\n",
      "Epoch 10/10\n",
      "250/250 [==============================] - 8s 30ms/step - loss: 0.1112 - acc: 0.9633 - val_loss: 0.5648 - val_acc: 0.8338\n",
      "313/313 [==============================] - 3s 9ms/step - loss: 0.5349 - acc: 0.8429\n",
      "Epoch 1/10\n",
      "250/250 [==============================] - 8s 23ms/step - loss: 0.6928 - accuracy: 0.5128 - val_loss: 0.6933 - val_accuracy: 0.5071\n",
      "Epoch 2/10\n",
      "250/250 [==============================] - 5s 20ms/step - loss: 0.6914 - accuracy: 0.5216 - val_loss: 0.6907 - val_accuracy: 0.5056\n",
      "Epoch 3/10\n",
      "250/250 [==============================] - 5s 22ms/step - loss: 0.6797 - accuracy: 0.5673 - val_loss: 0.6536 - val_accuracy: 0.6176\n",
      "Epoch 4/10\n",
      "250/250 [==============================] - 5s 21ms/step - loss: 0.6288 - accuracy: 0.6517 - val_loss: 0.6185 - val_accuracy: 0.6580\n",
      "Epoch 5/10\n",
      "250/250 [==============================] - 5s 21ms/step - loss: 0.5990 - accuracy: 0.6795 - val_loss: 0.5885 - val_accuracy: 0.6917\n",
      "Epoch 6/10\n",
      "250/250 [==============================] - 5s 19ms/step - loss: 0.5807 - accuracy: 0.6965 - val_loss: 0.5699 - val_accuracy: 0.7021\n",
      "Epoch 7/10\n",
      "250/250 [==============================] - 3s 14ms/step - loss: 0.5698 - accuracy: 0.7065 - val_loss: 0.5845 - val_accuracy: 0.6977\n",
      "Epoch 8/10\n",
      "250/250 [==============================] - 3s 14ms/step - loss: 0.5593 - accuracy: 0.7136 - val_loss: 0.5606 - val_accuracy: 0.7199\n",
      "Epoch 9/10\n",
      "250/250 [==============================] - 3s 14ms/step - loss: 0.5477 - accuracy: 0.7228 - val_loss: 0.5469 - val_accuracy: 0.7272\n",
      "Epoch 10/10\n",
      "250/250 [==============================] - 3s 14ms/step - loss: 0.5393 - accuracy: 0.7275 - val_loss: 0.5432 - val_accuracy: 0.7272\n",
      "313/313 [==============================] - 1s 4ms/step - loss: 0.5352 - accuracy: 0.7325\n"
     ]
    },
    {
     "data": {
      "text/html": [
       "<div>\n",
       "<style scoped>\n",
       "    .dataframe tbody tr th:only-of-type {\n",
       "        vertical-align: middle;\n",
       "    }\n",
       "\n",
       "    .dataframe tbody tr th {\n",
       "        vertical-align: top;\n",
       "    }\n",
       "\n",
       "    .dataframe thead th {\n",
       "        text-align: right;\n",
       "    }\n",
       "</style>\n",
       "<table border=\"1\" class=\"dataframe\">\n",
       "  <thead>\n",
       "    <tr style=\"text-align: right;\">\n",
       "      <th></th>\n",
       "      <th>Glove</th>\n",
       "      <th>Word2vec</th>\n",
       "      <th>Fasttext</th>\n",
       "    </tr>\n",
       "  </thead>\n",
       "  <tbody>\n",
       "    <tr>\n",
       "      <th>LTSM</th>\n",
       "      <td>0.8657</td>\n",
       "      <td>0.8453</td>\n",
       "      <td>0.8420</td>\n",
       "    </tr>\n",
       "    <tr>\n",
       "      <th>GRU</th>\n",
       "      <td>0.8567</td>\n",
       "      <td>0.8400</td>\n",
       "      <td>0.8429</td>\n",
       "    </tr>\n",
       "    <tr>\n",
       "      <th>RNN + CNN</th>\n",
       "      <td>0.8281</td>\n",
       "      <td>0.4961</td>\n",
       "      <td>0.7325</td>\n",
       "    </tr>\n",
       "  </tbody>\n",
       "</table>\n",
       "</div>"
      ],
      "text/plain": [
       "            Glove  Word2vec  Fasttext\n",
       "LTSM       0.8657    0.8453    0.8420\n",
       "GRU        0.8567    0.8400    0.8429\n",
       "RNN + CNN  0.8281    0.4961    0.7325"
      ]
     },
     "execution_count": 60,
     "metadata": {},
     "output_type": "execute_result"
    }
   ],
   "source": [
    "results['Fasttext']=[train_and_evaluate_LTSM_model(embedding_matrix_fasttext), train_and_evaluate_GRU_model(embedding_matrix_fasttext),  train_and_evaluate_RNN_CNN_model(embedding_matrix_fasttext)]\n",
    "results"
   ]
  },
  {
   "cell_type": "code",
   "execution_count": 61,
   "id": "d0fa1f8d",
   "metadata": {},
   "outputs": [
    {
     "name": "stdout",
     "output_type": "stream",
     "text": [
      "Epoch 1/6\n",
      "250/250 [==============================] - 11s 38ms/step - loss: 0.4071 - acc: 0.8111 - val_loss: 0.3502 - val_acc: 0.8546\n",
      "Epoch 2/6\n",
      "250/250 [==============================] - 9s 36ms/step - loss: 0.2994 - acc: 0.8760 - val_loss: 0.3380 - val_acc: 0.8519\n",
      "Epoch 3/6\n",
      "250/250 [==============================] - 9s 36ms/step - loss: 0.2692 - acc: 0.8885 - val_loss: 0.3751 - val_acc: 0.8428\n",
      "Epoch 4/6\n",
      "250/250 [==============================] - 9s 37ms/step - loss: 0.2341 - acc: 0.9061 - val_loss: 0.4068 - val_acc: 0.8447\n",
      "Epoch 5/6\n",
      "250/250 [==============================] - 9s 38ms/step - loss: 0.2082 - acc: 0.9180 - val_loss: 0.3880 - val_acc: 0.8475\n",
      "Epoch 6/6\n",
      "250/250 [==============================] - 10s 39ms/step - loss: 0.1821 - acc: 0.9296 - val_loss: 0.4623 - val_acc: 0.8451\n",
      "313/313 [==============================] - 2s 6ms/step - loss: 0.4437 - acc: 0.8500\n",
      "Epoch 1/10\n",
      "250/250 [==============================] - 10s 33ms/step - loss: 0.4614 - acc: 0.7704 - val_loss: 0.3509 - val_acc: 0.8478\n",
      "Epoch 2/10\n",
      "250/250 [==============================] - 7s 28ms/step - loss: 0.3087 - acc: 0.8727 - val_loss: 0.3356 - val_acc: 0.8535\n",
      "Epoch 3/10\n",
      "250/250 [==============================] - 7s 28ms/step - loss: 0.2696 - acc: 0.8933 - val_loss: 0.3466 - val_acc: 0.8533\n",
      "Epoch 4/10\n",
      "250/250 [==============================] - 7s 28ms/step - loss: 0.2425 - acc: 0.9039 - val_loss: 0.3551 - val_acc: 0.8524\n",
      "Epoch 5/10\n",
      "250/250 [==============================] - 7s 29ms/step - loss: 0.2154 - acc: 0.9170 - val_loss: 0.3767 - val_acc: 0.8482\n",
      "Epoch 6/10\n",
      "250/250 [==============================] - 7s 30ms/step - loss: 0.1894 - acc: 0.9300 - val_loss: 0.3862 - val_acc: 0.8454\n",
      "Epoch 7/10\n",
      "250/250 [==============================] - 7s 29ms/step - loss: 0.1676 - acc: 0.9388 - val_loss: 0.4155 - val_acc: 0.8426\n",
      "Epoch 8/10\n",
      "250/250 [==============================] - 7s 30ms/step - loss: 0.1503 - acc: 0.9469 - val_loss: 0.4794 - val_acc: 0.8400\n",
      "Epoch 9/10\n",
      "250/250 [==============================] - 7s 29ms/step - loss: 0.1295 - acc: 0.9539 - val_loss: 0.5166 - val_acc: 0.8380\n",
      "Epoch 10/10\n",
      "250/250 [==============================] - 7s 30ms/step - loss: 0.1154 - acc: 0.9612 - val_loss: 0.5286 - val_acc: 0.8381\n",
      "313/313 [==============================] - 2s 6ms/step - loss: 0.4928 - acc: 0.8447\n",
      "Epoch 1/10\n",
      "250/250 [==============================] - 6s 17ms/step - loss: 0.6932 - accuracy: 0.5031 - val_loss: 0.6934 - val_accuracy: 0.4999\n",
      "Epoch 2/10\n",
      "250/250 [==============================] - 3s 13ms/step - loss: 0.6932 - accuracy: 0.4982 - val_loss: 0.6933 - val_accuracy: 0.4997\n",
      "Epoch 3/10\n",
      "250/250 [==============================] - 3s 13ms/step - loss: 0.6931 - accuracy: 0.4969 - val_loss: 0.6932 - val_accuracy: 0.4999\n",
      "Epoch 4/10\n",
      "250/250 [==============================] - 3s 14ms/step - loss: 0.6931 - accuracy: 0.5007 - val_loss: 0.6932 - val_accuracy: 0.4997\n",
      "Epoch 5/10\n",
      "250/250 [==============================] - 4s 14ms/step - loss: 0.6931 - accuracy: 0.5017 - val_loss: 0.6932 - val_accuracy: 0.4999\n",
      "Epoch 6/10\n",
      "250/250 [==============================] - 4s 16ms/step - loss: 0.6931 - accuracy: 0.4966 - val_loss: 0.6933 - val_accuracy: 0.4999\n",
      "Epoch 7/10\n",
      "250/250 [==============================] - 4s 17ms/step - loss: 0.6931 - accuracy: 0.4939 - val_loss: 0.6933 - val_accuracy: 0.4999\n",
      "Epoch 8/10\n",
      "250/250 [==============================] - 4s 15ms/step - loss: 0.6931 - accuracy: 0.4963 - val_loss: 0.6933 - val_accuracy: 0.4999\n",
      "Epoch 9/10\n",
      "250/250 [==============================] - 3s 13ms/step - loss: 0.6931 - accuracy: 0.4992 - val_loss: 0.6934 - val_accuracy: 0.4999\n",
      "Epoch 10/10\n",
      "250/250 [==============================] - 3s 14ms/step - loss: 0.6931 - accuracy: 0.5041 - val_loss: 0.6934 - val_accuracy: 0.4997\n",
      "313/313 [==============================] - 1s 5ms/step - loss: 0.6937 - accuracy: 0.4961\n"
     ]
    },
    {
     "data": {
      "text/html": [
       "<div>\n",
       "<style scoped>\n",
       "    .dataframe tbody tr th:only-of-type {\n",
       "        vertical-align: middle;\n",
       "    }\n",
       "\n",
       "    .dataframe tbody tr th {\n",
       "        vertical-align: top;\n",
       "    }\n",
       "\n",
       "    .dataframe thead th {\n",
       "        text-align: right;\n",
       "    }\n",
       "</style>\n",
       "<table border=\"1\" class=\"dataframe\">\n",
       "  <thead>\n",
       "    <tr style=\"text-align: right;\">\n",
       "      <th></th>\n",
       "      <th>Glove</th>\n",
       "      <th>Word2vec</th>\n",
       "      <th>Fasttext</th>\n",
       "      <th>Tf-idf</th>\n",
       "    </tr>\n",
       "  </thead>\n",
       "  <tbody>\n",
       "    <tr>\n",
       "      <th>LTSM</th>\n",
       "      <td>0.8657</td>\n",
       "      <td>0.8453</td>\n",
       "      <td>0.8420</td>\n",
       "      <td>0.8500</td>\n",
       "    </tr>\n",
       "    <tr>\n",
       "      <th>GRU</th>\n",
       "      <td>0.8567</td>\n",
       "      <td>0.8400</td>\n",
       "      <td>0.8429</td>\n",
       "      <td>0.8447</td>\n",
       "    </tr>\n",
       "    <tr>\n",
       "      <th>RNN + CNN</th>\n",
       "      <td>0.8281</td>\n",
       "      <td>0.4961</td>\n",
       "      <td>0.7325</td>\n",
       "      <td>0.4961</td>\n",
       "    </tr>\n",
       "  </tbody>\n",
       "</table>\n",
       "</div>"
      ],
      "text/plain": [
       "            Glove  Word2vec  Fasttext  Tf-idf\n",
       "LTSM       0.8657    0.8453    0.8420  0.8500\n",
       "GRU        0.8567    0.8400    0.8429  0.8447\n",
       "RNN + CNN  0.8281    0.4961    0.7325  0.4961"
      ]
     },
     "execution_count": 61,
     "metadata": {},
     "output_type": "execute_result"
    }
   ],
   "source": [
    "results['Tf-idf']=[train_and_evaluate_LTSM_model(embedding_matrix_tfidf), train_and_evaluate_GRU_model(embedding_matrix_tfidf),  train_and_evaluate_RNN_CNN_model(embedding_matrix_tfidf)]\n",
    "results"
   ]
  },
  {
   "cell_type": "markdown",
   "id": "d7f56e47",
   "metadata": {},
   "source": [
    "On remarque que chaque modéle est plus performant pour une méthode d'Embedding spécifique.\n",
    "Pour le LTSM, le Glove Embedding est le plus favorable avec une précision de test de 0.8657\n",
    "Pour le GRU, le Glove Embedding est aussis le plus favorable avec une précision de test de 0.8567\n",
    "Pour le RNN+CNN, le Fasttext Embedding est le plus favorable avec une précision de test de 0.7325"
   ]
  },
  {
   "cell_type": "code",
   "execution_count": null,
   "id": "2bd445ff",
   "metadata": {},
   "outputs": [],
   "source": []
  }
 ],
 "metadata": {
  "kernelspec": {
   "display_name": "Python 3 (ipykernel)",
   "language": "python",
   "name": "python3"
  },
  "language_info": {
   "codemirror_mode": {
    "name": "ipython",
    "version": 3
   },
   "file_extension": ".py",
   "mimetype": "text/x-python",
   "name": "python",
   "nbconvert_exporter": "python",
   "pygments_lexer": "ipython3",
   "version": "3.9.7"
  }
 },
 "nbformat": 4,
 "nbformat_minor": 5
}
